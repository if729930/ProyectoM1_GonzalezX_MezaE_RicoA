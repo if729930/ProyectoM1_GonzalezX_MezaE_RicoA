{
 "cells": [
  {
   "cell_type": "markdown",
   "metadata": {},
   "source": [
    "<img style=\"float: left; margin: 30px 15px 15px 15px;\" src=\"https://pngimage.net/wp-content/uploads/2018/06/logo-iteso-png-5.png\" width=\"300\" height=\"500\" /> \n",
    "    \n",
    "    \n",
    "### <font color='navy'> Simulación de procesos financieros. \n",
    "\n",
    "**Nombres:** Xareny González,  Estefanía Meza, Alejandra Rico\n",
    "\n",
    "**Fecha:** 14 de octubre del 2021.\n",
    "\n",
    "**Expediente** : 720811, 729930, 720838.\n",
    "    \n",
    "**Profesor:** Oscar David Jaramillo Zuluaga.\n",
    "    \n",
    "**Link Github**: [Link con el enlace del repositorio del creador del proyecto](https://github.com/Xarenyglp/ProyectoM1_GonzalezX_MezaE_RicoA)\n",
    "\n",
    "# Proyecto TEMA 1"
   ]
  },
  {
   "cell_type": "markdown",
   "metadata": {},
   "source": [
    "## 1.1 Causas de Enfermedades Cardiovasculares"
   ]
  },
  {
   "cell_type": "markdown",
   "metadata": {},
   "source": [
    "<img src=\"cora.jpg\">"
   ]
  },
  {
   "cell_type": "markdown",
   "metadata": {},
   "source": [
    "## 1.2 Objetivos"
   ]
  },
  {
   "cell_type": "markdown",
   "metadata": {},
   "source": [
    "### Objetivo General"
   ]
  },
  {
   "cell_type": "markdown",
   "metadata": {},
   "source": [
    "> A lo largo del proyecto se pretendrá encontrar qué causas provocan que las personas sean más propensas a desarrollar una enfermedad cardiovascular. "
   ]
  },
  {
   "cell_type": "markdown",
   "metadata": {},
   "source": [
    "### Objetivos Específicos"
   ]
  },
  {
   "cell_type": "markdown",
   "metadata": {},
   "source": [
    "> * Simular la edad en la que una persona es propensa a desarrollar una ECV.\n",
    "> * Simular el nivel de colesterol en la que una persona es propensa a desarrollar una ECV.\n",
    "> * Simular la presión alta en reposo en la que una persona es propensa a desarrollar una ECV.\n",
    "> * Simular la frecuencia cardiaca en la que una persona es propensa a desarrollar una ECV."
   ]
  },
  {
   "cell_type": "markdown",
   "metadata": {},
   "source": [
    "Referencia: https://www.kaggle.com/fedesoriano/heart-failure-prediction"
   ]
  },
  {
   "cell_type": "markdown",
   "metadata": {},
   "source": [
    "## 1.3 Definición del problema"
   ]
  },
  {
   "cell_type": "markdown",
   "metadata": {},
   "source": [
    "> Las enfermedades cardiovasculares (ECV) son la principal causa de muerte a nivel mundial, cobrando un estimado de 17,9 millones de vidas cada año, lo que representa el 31% de todas las muertes en todo el mundo. Cuatro de cada 5 muertes por ECV se deben a ataques cardíacos y accidentes cerebrovasculares, y un tercio de estas muertes ocurren prematuramente en personas menores de 70 años. La insuficiencia cardíaca es un evento común causado por las ECV y este conjunto de datos contiene 11 características que pueden usarse para predecir una posible enfermedad cardíaca.\n",
    "\n",
    "> Las personas con enfermedad cardiovascular o que se encuentran en alto riesgo cardiovascular (debido a la presencia de uno o más factores de riesgo como hipertensión, diabetes, hiperlipidemia o enfermedad ya establecida) necesitan una detección y manejo precoces donde un modelo de aprendizaje automático puede ser de gran ayuda."
   ]
  },
  {
   "cell_type": "markdown",
   "metadata": {},
   "source": [
    "Referencia: https://www.paho.org/es/temas/enfermedades-cardiovasculares"
   ]
  },
  {
   "cell_type": "markdown",
   "metadata": {},
   "source": [
    "## 1.4 Nodos y variables que se decidieron simular y porqué"
   ]
  },
  {
   "cell_type": "markdown",
   "metadata": {},
   "source": [
    "> Para el análisis de esta base de datos nos enfocaremos en las siguientes variables, las cuales consideramos son las más significativas y marcan una diferencia más generalizada en la población:\n",
    "* **Age:** edad\n",
    "* **Sex:** sexo\n",
    "* **Cholesterol:** colesterol\n",
    "* **Resting BP:** Presión alta en reposo\n",
    "* **MaxHR:** frecuencia cardiaca máxima\n"
   ]
  },
  {
   "cell_type": "markdown",
   "metadata": {},
   "source": [
    "<img src=\"diagramaflujo.jpg\">"
   ]
  },
  {
   "cell_type": "markdown",
   "metadata": {},
   "source": [
    "## 1.5 Definición de hipótesis y supuestos"
   ]
  },
  {
   "cell_type": "markdown",
   "metadata": {},
   "source": [
    "### Hipótesis"
   ]
  },
  {
   "cell_type": "markdown",
   "metadata": {},
   "source": [
<<<<<<< HEAD
    "* El sexo más propenso a desarrollar una enfermedad cardíaca es el masculino.\n",
    "* El rango de edad para desarrollar una enfermedad cardíaca es entre los 55-70 años de edad.\n",
    "* Se puede saber con un rango de certeza si se desarrollará la enfermedad."
=======
    ">* Las personas con una frecuencia cardíaca alta y colesterol alto son propensas a tener problemas cardiacos.\n",
    ">* El rango de edad para desarrollar una enfermedad cardíaca es entre los 55-70 años de edad."
>>>>>>> main
   ]
  },
  {
   "cell_type": "markdown",
   "metadata": {},
   "source": [
    "### Supuestos"
   ]
  },
  {
   "cell_type": "markdown",
   "metadata": {},
   "source": [
<<<<<<< HEAD
    "* Los datos estan distribuidos de forma normal. \n",
    "* La probabilidad de desarrollar alguna enfermadad influye directamente con todos los síntomas planteados.\n"
=======
    ">* Los datos estan distribuidos de forma normal.\n",
    ">* La probabilidad de desarrollar alguna enfermadad influye directamente con los síntomas planteados como nodos."
>>>>>>> main
   ]
  },
  {
   "cell_type": "markdown",
   "metadata": {},
   "source": [
    "## 1.6 Obtención de la base de datos"
   ]
  },
  {
   "cell_type": "code",
<<<<<<< HEAD
   "execution_count": 1,
=======

   "execution_count": 71,

   "execution_count": null,


   "execution_count": 71,

>>>>>>> main
   "metadata": {},
   "outputs": [],
   "source": [
    "# Packages for data analysis \n",
    "import pandas as pd\n",
    "import numpy as np\n",
    "import matplotlib.pyplot as plt\n",
    "import seaborn as sns\n",
    "import sklearn as sk\n",
    "from sklearn.neighbors import KernelDensity\n",
    "from scipy.stats import gaussian_kde\n",
    "from statsmodels.nonparametric.kde import KDEUnivariate\n",
    "from statsmodels.nonparametric.kernel_density import KDEMultivariate\n",
    "import scipy.stats as st\n",
    "import statsmodels.api as sm \n",
    "from sklearn.model_selection import GridSearchCV\n",
    "import warnings\n",
    "warnings.filterwarnings(\"ignore\")"
   ]
  },
  {
   "cell_type": "code",
   "execution_count": 2,
   "metadata": {},
   "outputs": [
    {
     "data": {
      "text/html": [
       "<div>\n",
       "<style scoped>\n",
       "    .dataframe tbody tr th:only-of-type {\n",
       "        vertical-align: middle;\n",
       "    }\n",
       "\n",
       "    .dataframe tbody tr th {\n",
       "        vertical-align: top;\n",
       "    }\n",
       "\n",
       "    .dataframe thead th {\n",
       "        text-align: right;\n",
       "    }\n",
       "</style>\n",
       "<table border=\"1\" class=\"dataframe\">\n",
       "  <thead>\n",
       "    <tr style=\"text-align: right;\">\n",
       "      <th></th>\n",
       "      <th>Age</th>\n",
       "      <th>Sex</th>\n",
       "      <th>ChestPainType</th>\n",
       "      <th>RestingBP</th>\n",
       "      <th>Cholesterol</th>\n",
       "      <th>FastingBS</th>\n",
       "      <th>RestingECG</th>\n",
       "      <th>MaxHR</th>\n",
       "      <th>ExerciseAngina</th>\n",
       "      <th>Oldpeak</th>\n",
       "      <th>ST_Slope</th>\n",
       "      <th>HeartDisease</th>\n",
       "    </tr>\n",
       "  </thead>\n",
       "  <tbody>\n",
       "    <tr>\n",
       "      <th>0</th>\n",
       "      <td>40</td>\n",
       "      <td>M</td>\n",
       "      <td>ATA</td>\n",
       "      <td>140</td>\n",
       "      <td>289</td>\n",
       "      <td>0</td>\n",
       "      <td>Normal</td>\n",
       "      <td>172</td>\n",
       "      <td>N</td>\n",
       "      <td>0.0</td>\n",
       "      <td>Up</td>\n",
       "      <td>0</td>\n",
       "    </tr>\n",
       "    <tr>\n",
       "      <th>1</th>\n",
       "      <td>49</td>\n",
       "      <td>F</td>\n",
       "      <td>NAP</td>\n",
       "      <td>160</td>\n",
       "      <td>180</td>\n",
       "      <td>0</td>\n",
       "      <td>Normal</td>\n",
       "      <td>156</td>\n",
       "      <td>N</td>\n",
       "      <td>1.0</td>\n",
       "      <td>Flat</td>\n",
       "      <td>1</td>\n",
       "    </tr>\n",
       "    <tr>\n",
       "      <th>2</th>\n",
       "      <td>37</td>\n",
       "      <td>M</td>\n",
       "      <td>ATA</td>\n",
       "      <td>130</td>\n",
       "      <td>283</td>\n",
       "      <td>0</td>\n",
       "      <td>ST</td>\n",
       "      <td>98</td>\n",
       "      <td>N</td>\n",
       "      <td>0.0</td>\n",
       "      <td>Up</td>\n",
       "      <td>0</td>\n",
       "    </tr>\n",
       "    <tr>\n",
       "      <th>3</th>\n",
       "      <td>48</td>\n",
       "      <td>F</td>\n",
       "      <td>ASY</td>\n",
       "      <td>138</td>\n",
       "      <td>214</td>\n",
       "      <td>0</td>\n",
       "      <td>Normal</td>\n",
       "      <td>108</td>\n",
       "      <td>Y</td>\n",
       "      <td>1.5</td>\n",
       "      <td>Flat</td>\n",
       "      <td>1</td>\n",
       "    </tr>\n",
       "    <tr>\n",
       "      <th>4</th>\n",
       "      <td>54</td>\n",
       "      <td>M</td>\n",
       "      <td>NAP</td>\n",
       "      <td>150</td>\n",
       "      <td>195</td>\n",
       "      <td>0</td>\n",
       "      <td>Normal</td>\n",
       "      <td>122</td>\n",
       "      <td>N</td>\n",
       "      <td>0.0</td>\n",
       "      <td>Up</td>\n",
       "      <td>0</td>\n",
       "    </tr>\n",
       "    <tr>\n",
       "      <th>...</th>\n",
       "      <td>...</td>\n",
       "      <td>...</td>\n",
       "      <td>...</td>\n",
       "      <td>...</td>\n",
       "      <td>...</td>\n",
       "      <td>...</td>\n",
       "      <td>...</td>\n",
       "      <td>...</td>\n",
       "      <td>...</td>\n",
       "      <td>...</td>\n",
       "      <td>...</td>\n",
       "      <td>...</td>\n",
       "    </tr>\n",
       "    <tr>\n",
       "      <th>913</th>\n",
       "      <td>45</td>\n",
       "      <td>M</td>\n",
       "      <td>TA</td>\n",
       "      <td>110</td>\n",
       "      <td>264</td>\n",
       "      <td>0</td>\n",
       "      <td>Normal</td>\n",
       "      <td>132</td>\n",
       "      <td>N</td>\n",
       "      <td>1.2</td>\n",
       "      <td>Flat</td>\n",
       "      <td>1</td>\n",
       "    </tr>\n",
       "    <tr>\n",
       "      <th>914</th>\n",
       "      <td>68</td>\n",
       "      <td>M</td>\n",
       "      <td>ASY</td>\n",
       "      <td>144</td>\n",
       "      <td>193</td>\n",
       "      <td>1</td>\n",
       "      <td>Normal</td>\n",
       "      <td>141</td>\n",
       "      <td>N</td>\n",
       "      <td>3.4</td>\n",
       "      <td>Flat</td>\n",
       "      <td>1</td>\n",
       "    </tr>\n",
       "    <tr>\n",
       "      <th>915</th>\n",
       "      <td>57</td>\n",
       "      <td>M</td>\n",
       "      <td>ASY</td>\n",
       "      <td>130</td>\n",
       "      <td>131</td>\n",
       "      <td>0</td>\n",
       "      <td>Normal</td>\n",
       "      <td>115</td>\n",
       "      <td>Y</td>\n",
       "      <td>1.2</td>\n",
       "      <td>Flat</td>\n",
       "      <td>1</td>\n",
       "    </tr>\n",
       "    <tr>\n",
       "      <th>916</th>\n",
       "      <td>57</td>\n",
       "      <td>F</td>\n",
       "      <td>ATA</td>\n",
       "      <td>130</td>\n",
       "      <td>236</td>\n",
       "      <td>0</td>\n",
       "      <td>LVH</td>\n",
       "      <td>174</td>\n",
       "      <td>N</td>\n",
       "      <td>0.0</td>\n",
       "      <td>Flat</td>\n",
       "      <td>1</td>\n",
       "    </tr>\n",
       "    <tr>\n",
       "      <th>917</th>\n",
       "      <td>38</td>\n",
       "      <td>M</td>\n",
       "      <td>NAP</td>\n",
       "      <td>138</td>\n",
       "      <td>175</td>\n",
       "      <td>0</td>\n",
       "      <td>Normal</td>\n",
       "      <td>173</td>\n",
       "      <td>N</td>\n",
       "      <td>0.0</td>\n",
       "      <td>Up</td>\n",
       "      <td>0</td>\n",
       "    </tr>\n",
       "  </tbody>\n",
       "</table>\n",
       "<p>918 rows × 12 columns</p>\n",
       "</div>"
      ],
      "text/plain": [
       "     Age Sex ChestPainType  RestingBP  Cholesterol  FastingBS RestingECG  \\\n",
       "0     40   M           ATA        140          289          0     Normal   \n",
       "1     49   F           NAP        160          180          0     Normal   \n",
       "2     37   M           ATA        130          283          0         ST   \n",
       "3     48   F           ASY        138          214          0     Normal   \n",
       "4     54   M           NAP        150          195          0     Normal   \n",
       "..   ...  ..           ...        ...          ...        ...        ...   \n",
       "913   45   M            TA        110          264          0     Normal   \n",
       "914   68   M           ASY        144          193          1     Normal   \n",
       "915   57   M           ASY        130          131          0     Normal   \n",
       "916   57   F           ATA        130          236          0        LVH   \n",
       "917   38   M           NAP        138          175          0     Normal   \n",
       "\n",
       "     MaxHR ExerciseAngina  Oldpeak ST_Slope  HeartDisease  \n",
       "0      172              N      0.0       Up             0  \n",
       "1      156              N      1.0     Flat             1  \n",
       "2       98              N      0.0       Up             0  \n",
       "3      108              Y      1.5     Flat             1  \n",
       "4      122              N      0.0       Up             0  \n",
       "..     ...            ...      ...      ...           ...  \n",
       "913    132              N      1.2     Flat             1  \n",
       "914    141              N      3.4     Flat             1  \n",
       "915    115              Y      1.2     Flat             1  \n",
       "916    174              N      0.0     Flat             1  \n",
       "917    173              N      0.0       Up             0  \n",
       "\n",
       "[918 rows x 12 columns]"
      ]
     },
     "execution_count": 2,
     "metadata": {},
     "output_type": "execute_result"
    }
   ],
   "source": [
    "ecv = pd.read_csv('heart.csv').dropna()\n",
    "\n",
    "nodos = ['Age','Cholesterol', 'RestingBP', 'MaxHR']\n",
    "ecv"
   ]
  },
  {
   "cell_type": "code",
<<<<<<< HEAD
   "execution_count": 3,
   "metadata": {},
   "outputs": [],
   "source": [
    "for n in nodos:\n",
    "    q1, q3= np.percentile(ecv[n],[25,75])\n",
    "    iqr = q3 - q1\n",
    "    minimo = q1 -(1.5 * iqr) \n",
    "    maximo = q3 +(1.5 * iqr)\n",
    "    ecv = ecv[(ecv[n]>=minimo) & (ecv[n]<=maximo)]"
   ]
  },
  {
   "cell_type": "code",
   "execution_count": 4,
=======
   "execution_count": 157,
>>>>>>> main
   "metadata": {},
   "outputs": [
    {
     "data": {
<<<<<<< HEAD
      "image/png": "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\n",
=======
      "text/html": [
       "<div>\n",
       "<style scoped>\n",
       "    .dataframe tbody tr th:only-of-type {\n",
       "        vertical-align: middle;\n",
       "    }\n",
       "\n",
       "    .dataframe tbody tr th {\n",
       "        vertical-align: top;\n",
       "    }\n",
       "\n",
       "    .dataframe thead th {\n",
       "        text-align: right;\n",
       "    }\n",
       "</style>\n",
       "<table border=\"1\" class=\"dataframe\">\n",
       "  <thead>\n",
       "    <tr style=\"text-align: right;\">\n",
       "      <th></th>\n",
       "      <th>Age</th>\n",
       "      <th>Cholesterol</th>\n",
       "      <th>RestingBP</th>\n",
       "      <th>MaxHR</th>\n",
       "    </tr>\n",
       "  </thead>\n",
       "  <tbody>\n",
       "    <tr>\n",
       "      <th>0</th>\n",
       "      <td>40</td>\n",
       "      <td>289</td>\n",
       "      <td>140</td>\n",
       "      <td>172</td>\n",
       "    </tr>\n",
       "    <tr>\n",
       "      <th>1</th>\n",
       "      <td>49</td>\n",
       "      <td>180</td>\n",
       "      <td>160</td>\n",
       "      <td>156</td>\n",
       "    </tr>\n",
       "    <tr>\n",
       "      <th>2</th>\n",
       "      <td>37</td>\n",
       "      <td>283</td>\n",
       "      <td>130</td>\n",
       "      <td>98</td>\n",
       "    </tr>\n",
       "    <tr>\n",
       "      <th>3</th>\n",
       "      <td>48</td>\n",
       "      <td>214</td>\n",
       "      <td>138</td>\n",
       "      <td>108</td>\n",
       "    </tr>\n",
       "    <tr>\n",
       "      <th>4</th>\n",
       "      <td>54</td>\n",
       "      <td>195</td>\n",
       "      <td>150</td>\n",
       "      <td>122</td>\n",
       "    </tr>\n",
       "    <tr>\n",
       "      <th>...</th>\n",
       "      <td>...</td>\n",
       "      <td>...</td>\n",
       "      <td>...</td>\n",
       "      <td>...</td>\n",
       "    </tr>\n",
       "    <tr>\n",
       "      <th>913</th>\n",
       "      <td>45</td>\n",
       "      <td>264</td>\n",
       "      <td>110</td>\n",
       "      <td>132</td>\n",
       "    </tr>\n",
       "    <tr>\n",
       "      <th>914</th>\n",
       "      <td>68</td>\n",
       "      <td>193</td>\n",
       "      <td>144</td>\n",
       "      <td>141</td>\n",
       "    </tr>\n",
       "    <tr>\n",
       "      <th>915</th>\n",
       "      <td>57</td>\n",
       "      <td>131</td>\n",
       "      <td>130</td>\n",
       "      <td>115</td>\n",
       "    </tr>\n",
       "    <tr>\n",
       "      <th>916</th>\n",
       "      <td>57</td>\n",
       "      <td>236</td>\n",
       "      <td>130</td>\n",
       "      <td>174</td>\n",
       "    </tr>\n",
       "    <tr>\n",
       "      <th>917</th>\n",
       "      <td>38</td>\n",
       "      <td>175</td>\n",
       "      <td>138</td>\n",
       "      <td>173</td>\n",
       "    </tr>\n",
       "  </tbody>\n",
       "</table>\n",
       "<p>702 rows × 4 columns</p>\n",
       "</div>"
      ],
      "text/plain": [
       "     Age  Cholesterol  RestingBP  MaxHR\n",
       "0     40          289        140    172\n",
       "1     49          180        160    156\n",
       "2     37          283        130     98\n",
       "3     48          214        138    108\n",
       "4     54          195        150    122\n",
       "..   ...          ...        ...    ...\n",
       "913   45          264        110    132\n",
       "914   68          193        144    141\n",
       "915   57          131        130    115\n",
       "916   57          236        130    174\n",
       "917   38          175        138    173\n",
       "\n",
       "[702 rows x 4 columns]"
      ]
     },
     "execution_count": 157,
     "metadata": {},
     "output_type": "execute_result"
    }
   ],
   "source": [
    "nodos = ['Age','Cholesterol', 'RestingBP', 'MaxHR']\n",
    "\n",
    "nodoA= pd.DataFrame(ecv,columns=['Age'])\n",
    "nodoC= pd.DataFrame(ecv,columns=['Cholesterol'])\n",
    "nodoR= pd.DataFrame(ecv,columns=['RestingBP'])\n",
    "nodoM= pd.DataFrame(ecv,columns=['MaxHR'])\n",
    "df_nodos=nodoA.join(nodoC).join(nodoR).join(nodoM)\n",
    "df_nodos"
   ]
  },
  {
   "cell_type": "code",
   "execution_count": 162,
   "metadata": {},
   "outputs": [],
   "source": [
    "edad = np.array(ecv['Age'])\n",
    "colesterol = np.array(ecv[\"Cholesterol\"])\n",
    "presion = np.array(ecv[\"RestingBP\"])\n",
    "frecuencia = np.array(ecv[\"MaxHR\"])\n",
    "\n",
    "\n",
    "#EDAD 45 AÑOS\n",
    "#COLESTEROL 240\n",
    "#PRESION 130\n",
    "# FC NORMAL ENTRE 60-100; PROPENSO A DESARROLLAR ABAJO DE 60 Y ARRIBA DE 100\n",
    "\n"
   ]
  },
  {
   "cell_type": "code",
   "execution_count": 144,
   "metadata": {},
   "outputs": [
    {
     "data": {
      "image/png": "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\n",
      "text/plain": [
       "<Figure size 432x288 with 1 Axes>"
      ]
     },
     "metadata": {
      "needs_background": "light"
     },
     "output_type": "display_data"
    },
    {
     "data": {
      "image/png": "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\n",
      "text/plain": [
       "<Figure size 432x288 with 1 Axes>"
      ]
     },
     "metadata": {
      "needs_background": "light"
     },
     "output_type": "display_data"
    },
    {
     "data": {
      "image/png": "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\n",
      "text/plain": [
       "<Figure size 432x288 with 1 Axes>"
      ]
     },
     "metadata": {
      "needs_background": "light"
     },
     "output_type": "display_data"
    },
    {
     "data": {
      "image/png": "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\n",
>>>>>>> main
      "text/plain": [
       "<Figure size 432x288 with 1 Axes>"
      ]
     },
     "metadata": {
      "needs_background": "light"
     },
     "output_type": "display_data"
    }
   ],
   "source": [
<<<<<<< HEAD
    "sns.countplot(data=ecv, x=\"Sex\");"
=======
    "nodos = ['Age','Cholesterol', 'RestingBP', 'MaxHR']\n",
    "for i in range(4):\n",
    "    plt.hist(ecv[nodos[i]],bins=20,label=nodos[i],color='cornflowerblue')\n",
    "    plt.legend()\n",
    "    plt.show()"
   ]
  },
  {
   "cell_type": "markdown",
   "metadata": {},
   "source": [
    "## 1.7 Visualización de resultados de simulación."
   ]
  },
  {
   "cell_type": "code",

   "execution_count": 137,


   "execution_count": 97,

   "execution_count": null,


   "execution_count": 97,

   "metadata": {},
   "outputs": [],
   "source": [
    "def kde_sklearn(x, x_grid, bandwidth, **kwargs):\n",
    "    \"\"\"Kernel Density Estimation with Scikit-learn\"\"\"\n",
    "    kde_skl = KernelDensity(bandwidth=bandwidth, **kwargs)\n",
    "    kde_skl.fit(x[:, np.newaxis])\n",
    "    # score_samples() returns the log-likelihood of the samples\n",
    "    log_pdf = kde_skl.score_samples(x_grid[:, np.newaxis])\n",
    "    return np.exp(log_pdf)\n",
    "\n",
    "def generador_vad(proba_acum: 'Probabilidad acumulada', indices: 'Valores por generar', N: 'Aleatorios por generar'):\n",
    "    diccionario = {i: idx for i, idx in enumerate(indices)}\n",
    "    U = np.random.rand(N)\n",
    "    y = pd.Series([sum([1 for p in proba_acum if p < ui]) for ui in U]).map(diccionario)\n",
    "    return y\n",
    "\n",
    "def kde_sklearn_mod(x, bandwidth, **kwargs):\n",
    "    \"\"\"Kernel Density Estimation with Scikit-learn\"\"\"\n",
    "    kde_skl = KernelDensity(bandwidth=bandwidth, **kwargs)\n",
    "    kde_skl.fit(x[:, np.newaxis])\n",
    "    # score_samples() returns the log-likelihood of the samples\n",
    "    pdf = lambda x_grid: np.exp(kde_skl.score_samples(x_grid[:, np.newaxis])) if isinstance(x_grid, np.ndarray) else \\\n",
    "        np.exp(kde_skl.score_samples(np.array[x_grid])[:, np.newaxis])\n",
    "    return pdf\n",
    "\n",
    "def muestreo_est(B: 'Número de estratos'):\n",
    "    u= np.random.uniform(B) \n",
    "    i=np.arange(0,B) \n",
    "    v = (u+i)/B \n",
    "    return v \n",
    "    \n",
    "# Función que hace las pruebas para ver una distribución que se ajuste mejor al nodo    \n",
    "def prueba_dist(nodo: \"Nodo a estudiar\", bins: 'bins'):\n",
    "    '''\n",
    "    Esta función de devuelve que una gráfica en donde se ve como le quedan distintas distribuciones\n",
    "    arbitrarias al nodo que el usuario debe ingresar a estudiar, además del orden de menor a menor\n",
    "    de las distribuciones que se podrán usar más adelante.\n",
    "    '''\n",
    "    d_continuas = [d for d in dir(st) if isinstance(getattr(st, d), getattr(st, \"rv_continuous\"))]\n",
    "\n",
    "    y, x, _ = plt.hist(nodo, bins=bins, density=True)\n",
    "    x = x[1:]\n",
    "\n",
    "    error = pd.DataFrame(columns = [\"distribución\", \"error\"])\n",
    "    i = 0\n",
    "\n",
    "    for d in d_continuas[10:20]:\n",
    "        try:\n",
    "            params = getattr(st, d).fit(nodo)\n",
    "            y_hat = getattr(st, d)(*params).pdf(x)\n",
    "            error.loc[i, :] = [d, np.mean(np.abs((y - y_hat)/y))] #Error MAPE\n",
    "            plt.plot(x, y_hat, label = d)\n",
    "            i += 1\n",
    "        except:\n",
    "            pass\n",
    "    plt.legend()\n",
    "    plt.show()\n",
    "\n",
    "    error.set_index(\"distribución\", inplace=True)\n",
    "    print(error.sort_values(\"error\"))   \n",
    "    \n",
    "\n",
    "# Función que hace la prueba Q_Q y nos muestra la gráfica.    \n",
    "def q_q(nodo: \"Nodo a simular\", distr:\"Distribución a comparar\"):\n",
    "    '''\n",
    "    Esta función te arroja como se acomoda la distribución elegida (como entrada),\n",
    "    del nodo introducido.\n",
    "    '''\n",
    "    # Histograma de las variables creadas\n",
    "    divisiones = 20 # Cantidad de barras en el histograma\n",
    "    fig, ax = plt.subplots(2,1, figsize=(8,10))\n",
    "    fig.tight_layout(pad=3.0)\n",
    "\n",
    "    y, x, _ = ax[0].hist(nodo, divisiones, density=True, label='Histograma mediciones')\n",
    "\n",
    "    # Función de distribución de probabilidad la cual creemos que mis datos distribuyen \n",
    "    # RECORDAR: SÓLO FUNCIONA PARA DISTRIBUCIONES CONTINUAS\n",
    "    dist = distr\n",
    "    params = getattr(st, dist).fit(nodo)\n",
    "\n",
    "    # Graficar PDF de la distribución que queremos probar\n",
    "\n",
    "    # x = np.arange(measurements.min(), measurements.max(), .01)\n",
    "    y_hat = getattr(st, dist).pdf(x, *params)\n",
    "    ax[0].plot(x, y_hat,'r--', label='Distribución ajustada')\n",
    "    ax[0].set_ylabel('Probabilidad')\n",
    "    ax[0].grid()\n",
    "\n",
    "    grap1 = sm.qqplot(nodo, dist=getattr(st, dist), line='q', fit=True, ax=ax[1])\n",
    "    ax[1].grid()\n",
    "    ax[1].set_title('Paquete stats')   \n",
    "    \n",
    "def complementarios_1(N):\n",
    "    a = np.random.rand(int(N/2))\n",
    "    b = 1-a\n",
    "    return np.concatenate((a,b))\n",
    "    \n",
    "# Asignación de variables para los nodos\n",
    "edad = np.array(ecv['Age'])\n",
    "colesterol = np.array(ecv[\"Cholesterol\"])\n",
    "presion = np.array(ecv[\"RestingBP\"])\n",
    "frecuencia = np.array(ecv[\"MaxHR\"])"
   ]
  },
  {
   "cell_type": "markdown",
   "metadata": {},
   "source": [
    "> Primero se eliminan los **valores atípicos** de los nodos ya que hacen que la distribución varíe más y, por lo tanto, reduce el poder estadístico."
>>>>>>> main
   ]
  },
  {
   "cell_type": "code",
   "execution_count": 5,
   "metadata": {},
   "outputs": [
    {
     "data": {
      "image/png": "iVBORw0KGgoAAAANSUhEUgAAAZMAAAFgCAYAAAB+GpTWAAAABHNCSVQICAgIfAhkiAAAAAlwSFlzAAALEgAACxIB0t1+/AAAADh0RVh0U29mdHdhcmUAbWF0cGxvdGxpYiB2ZXJzaW9uMy4yLjIsIGh0dHA6Ly9tYXRwbG90bGliLm9yZy+WH4yJAAAXsUlEQVR4nO3df7BcZ33f8fdHkl2bHy4WudYoWJJh6hEQNzZw42DcMoCxRyQe7KSY2FNSNTXVH4UUUJvEaTpl3JYZZybjgTAprQIEJQEH48DYcVMjVWAySRmDMAbj2IoTsCUZIV1D+J0BbH37xx7BHSPrru6zZ/feve/XzM7Zc3bP3e+zurqfOc95znNSVUiS1GLVpAuQJC1/hokkqZlhIklqZphIkpoZJpKkZmsmXcAwtmzZUnfccceky5CkYWXSBYzbsjgyefTRRyddgiTpBJZFmEiSljbDRJLUzDCRJDUzTCRJzQwTSVIzw0SS1KzXMEnyliT3JflCkpuSnJZkbZLdSR7slmf2WYMkqX+9hUmSZwH/HpitqvOA1cDVwHXAnqo6F9jTrUuSlrG+u7nWAKcnWQM8BfgycAWws3t9J3BlzzVIknrWW5hU1SPA7wD7gUPAN6pqF7Cuqg517zkEnHW8/ZNsS7I3yd65ubm+ypQkjUCf3VxnMjgKeTbwk8BTk7xu2P2rakdVzVbV7MzMTF9lSpJGoM9urlcCX6qquar6AfBh4CXA4STrAbrlkR5rkCSNQZ9hsh94cZKnJAlwCXA/cBuwtXvPVuDWHmuQJI1Bn+dM7gJuAe4G7u0+awdwA3BpkgeBS7t1acnZsHETSRb92LBx06SbII1NqmrSNSxodna29u7dO+kytMIk4cZd+xa9//bLNrMc/n+pF97PRJKkk2WYSJKaGSaSpGaGiSSpmWEiSWpmmEiSmhkmkqRmhokkqZlhIklqZphIkpoZJpKkZoaJJKmZYSJJamaYSJKaGSaSpGaGiSSpmWEiSWpmmEiSmhkmkqRmhokkqZlhIvUlq0iy6MeGjZsm3QJpaGsmXYA0teooN+7at+jdt1+2eYTFSP3yyESS1MwwkSQ1M0wkSc0ME0lSM8NEktTMMJEkNestTJJsTnLPvMc3k7w5ydoku5M82C3P7KsGSdJ49BYmVbWvqi6oqguAFwHfBT4CXAfsqapzgT3duiRpGRtXN9clwN9V1cPAFcDObvtO4Mox1SBJ6sm4wuRq4Kbu+bqqOgTQLc863g5JtiXZm2Tv3NzcmMqUJC1G72GS5FTg1cCHTma/qtpRVbNVNTszM9NPcZKkkRjHkcmrgLur6nC3fjjJeoBueWQMNUiSejSOMLmGH3VxAdwGbO2ebwVuHUMNkqQe9RomSZ4CXAp8eN7mG4BLkzzYvXZDnzVIkvrX6xT0VfVd4JlP2PZVBqO7JElTwivgJUnNDBNJUjPDRJLUzDCRJDUzTCRJzQwTSVIzw0SS1MwwkSQ1M0wkSc0ME0lSM8NEktTMMJEkNTNMJEnNDBNJUjPDRJLUzDCRJDUzTCRJzQwTSVIzw0SS1MwwkSQ1M0wkSc0ME0lSM8NEktTMMJEkNTNMJEnNDBNJUjPDRJLUzDCRJDXrNUySPCPJLUkeSHJ/kouSrE2yO8mD3fLMPmuQJPWv7yOTdwB3VNVzgfOB+4HrgD1VdS6wp1uXJC1jvYVJkjOAlwLvAaiq71fV14ErgJ3d23YCV/ZVgyRpPPo8MnkOMAf8QZLPJnl3kqcC66rqEEC3POt4OyfZlmRvkr1zc3M9lilJatVnmKwBXgi8q6peAHyHk+jSqqodVTVbVbMzMzN91ShJGoE+w+QgcLCq7urWb2EQLoeTrAfolkd6rEGSNAa9hUlVfQU4kGRzt+kS4K+B24Ct3batwK191SBJGo81Pf/8XwXen+RU4IvArzAIsJuTXAvsB67quQZJUs96DZOqugeYPc5Ll/T5uZKk8fIKeElSM8NEktTMMJEkNTNMJEnNDBNJUjPDRJLUzDCRJDUzTCRJzQwTSVIzw0SS1MwwkSQ1M0wkSc0ME0lSM8NEktTMMJEkNTNMJEnNDBNJUjPDRJLUzDCRJDUzTCRJzQwTSVIzw0SS1MwwkSQ1M0wkSc0ME0lSM8NEktTMMJEkNTNMJEnN1vT5w5M8BHwLeBx4rKpmk6wFPgicAzwEvLaq/r7POiRJ/RrHkcnLq+qCqprt1q8D9lTVucCebl2StIxNopvrCmBn93wncOUEapAkjVDfYVLAriSfSbKt27auqg4BdMuzeq5BktSzXs+ZABdX1ZeTnAXsTvLAsDt24bMNYOPGjX3VJ0kagV6PTKrqy93yCPAR4ELgcJL1AN3yyJPsu6OqZqtqdmZmps8yJUmNeguTJE9N8vRjz4HLgC8AtwFbu7dtBW7tqwZJ0nj02c21DvhIkmOf84GquiPJp4Gbk1wL7Aeu6rEGSdIY9BYmVfVF4PzjbP8qcElfnytJGj+vgJckNTNMJEnNDBP1ZsPGTSRZ9GPDxk2TbsJkZVXT9+d3qHHq+zoTrWAHD+znxl37Fr3/9ss2j7CaZaiONn1/4Heo8fHIRJLUzDCRJDUzTCRJzQwTSVIzw0SS1MwwkSQ1M0wkSc0ME0lSM8NEktTMMNHS1TidiFOJSOMz1HQqSS6uqr9aaJs0Uo3TiTiViDQ+wx6ZvHPIbZKkFeiERyZJLgJeAswk2T7vpTOA1X0WJklaPhbq5joVeFr3vqfP2/5N4DV9FSVJWl5OGCZV9QngE0neV1UPj6kmSdIyM+z9TP5Rkh3AOfP3qapX9FGUJGl5GTZMPgT8T+DdwOP9lSNJWo6GDZPHqupdvVYiSVq2hh0a/GdJ/l2S9UnWHnv0Wpkk6YSS/FaS+5J8Psk9SX52UrUMe2SytVv+2rxtBTxntOVIkobRXbpxOfDCqvpekp9gMAJ3IoYKk6p6dt+FSJJOynrg0ar6HkBVPQqQ5EXAjQwu63gU+NfAd4FPAa+uqn1JbgI+VlW/P6pihp1O5V8db3tV/eGoCpEknZRdwH9J8jfA/wU+CPw/BrOTXFFVc0l+CXhbVf2bJG8E3pfkHcCZowwSGL6b62fmPT8NuAS4GzBMJGkCqurb3VHIPwdeziBM/jtwHrA7CQxmKjnUvX93kquA3wPOH3U9w3Zz/er89ST/GPijURcjSRpeVT0O3AncmeRe4A3AfVV10RPfm2QV8DzgH4C1wMFR1rLYKei/C5w7zBuTrE7y2SS3d+trk+xO8mC3PHORNUjSipVkc5L5f4cvAO5nMJfiRd17TknyU93rb+levwZ4b5JTRlnPsOdM/ozB6C0YHDY9D7h5yM94E4MGnNGtXwfsqaobklzXrf/G0BVLkmBwgv2dSZ4BPAb8LbAN2AH8bteDtAZ4e5IfAK8HLqyqbyX5C+A/A28dVTHDnjP5nXnPHwMerqoFD5GSnA38PPA24Nisw1cAL+ue72RwiGaYSNJJqKrPMJjV/YkeBV56nO3Pm7fv9uO83mSobq5uwscHGMwcfCbw/SF//tuBXweOztu2rqqOnRA6BJw1dLWSpCVpqDBJ8loGY5SvAl4L3JXkhFPQJ7kcONKl50lLsi3J3iR75+bmFvMjJEljMmw3128BP1NVRwCSzDAY13zLCfa5GHh1kp9jMJz4jCR/DBxOsr6qDiVZDxw53s5VtYNB3x+zs7N1vPdIkpaGYUdzrToWJJ2vLrRvVf1mVZ1dVecAVzO42vJ1wG38aHqWrcCtJ1eyJGmpGfbI5I4kHwVu6tZ/CfjzRX7mDcDNSa4F9jPoOpNGL6voLtxauRq/g7M3bOTAfu+Lp4UtdA/4f8LghPmvJflF4J8BAT4JvH/YD6mqOxmM2qKqvsrgCnqpX3WUG3ftW/Tu2y/bPMJiJsTvQGOyUDfX24FvAVTVh6tqe1W9hcFRydv7Lk6SNB5JKskfzVtfk2Tu2AXnC1koTM6pqs8/cWNV7WVwC19J0ohl9ZqD3R/30TxWrxlm6pTvAOclOb1bvxR4ZNiaFzpnctoJXjv9BK9Jkhbr6OPP2vQbt18/qh/38G9fPuyV7v+HwYXmtzCYduUmBhNJLmihI5NPJ/m3T9zYnTxf1PUjkqQl60+Aq5OcBvw0cNewOy50ZPJm4CNJ/iU/Co9ZBnfz+oVFFCpJWqKq6vNJzmFwVHJSI3ZPGCZVdRh4SZKXM5gjH+B/V9XHFlGnJGnpu43BfIwvA5457E7D3s/k48DHF1WWJmbDxk0cPLB/0ft7jYG0Ir0X+EZV3ZvkZcPuNOxFi1qGDh7Y7zUGkk5KNyP8O052P8NEkpaaVasfOYkRWEP9vIXeUlVPO862O+kuOF+IYaIn53Qk0kTU44+dPekaTpZhoifnVByShrTYe8BLkvRDhokkqZlhIklqZphIkpp5Al6SRJLHgXvnbbqyqh4adn/DRJKWmFNW5+BjR3nWqH7emlU88oPHa6Hhxv9QVRcs+jMWu6MkqR+PHeVZ9dYzRjYFfa7/5ugugHwShokkCeD0JPd0z79UVSc1M7xhIkmCxm4uR3NJkpoZJpKkZoaJJKmZ50wkaYlZs4pHRjkCa80qFjUF/Ul9RsvOkqTRG+KakCXHbi5JUjPDRJLUzDCRJDXrLUySnJbkU0k+l+S+JNd329cm2Z3kwW55Zl81SJLGo88jk+8Br6iq84ELgC1JXgxcB+ypqnOBPd26JGkZ6y1MauDb3eop3aOAK4Cd3fadwJV91SBJGo9ez5kkWd1NHHYE2F1VdwHrquoQQLc8q88aJEn96zVMqurxbuKws4ELk5w37L5JtiXZm2Tv3Nxcf0VKkpqNZTRXVX0duBPYAhxOsh6gWx55kn12VNVsVc3OzMyMo0xJ0iL1OZprJskzuuenA68EHgBuA7Z2b9sK3NpXDZKk8ehzOpX1wM4kqxmE1s1VdXuSTwI3J7kW2A9c1WMNkqQx6C1MqurzwAuOs/2rwCV9fa4kafy8Al6S1MwwkSQ1M0wkSc0ME0lSM8NEktTMMJEkNTNMlrANGzeRZNEPSRoX7wG/hB08sJ8bd+1b9P7bL9s8wmok6cl5ZCJJamaYSJKaGSaSpGaGiSSpmWEiSWpmmEiSmhkmkqRmhokkqZlhIklq5hXw0glcf/31ky5BWhYME+kE3rp18XeY3v5XHxhhJdLSZjeXJKmZYSJJamaYSJKaGSaSpGaGiSSpmaO5tKQ5NHfCsqrprp1nb9jIgf0Pj7AgLVWGiZY0h+ZOWB31bp8ait1ckqRmhokkqVlvYZJkQ5KPJ7k/yX1J3tRtX5tkd5IHu+WZfdUgSRqPPo9MHgP+Q1U9D3gx8IYkzweuA/ZU1bnAnm5dkrSM9RYmVXWoqu7unn8LuB94FnAFsLN7207gyr5qkCSNx1jOmSQ5B3gBcBewrqoOwSBwgLPGUYMkqT+9h0mSpwF/Cry5qr55EvttS7I3yd65ubn+CpQkNes1TJKcwiBI3l9VH+42H06yvnt9PXDkePtW1Y6qmq2q2ZmZmT7LlCQ16nM0V4D3APdX1Y3zXroN2No93wrc2lcNkqTx6PMK+IuBXwbuTXJPt+0/ATcANye5FtgPXNVjDZKkMegtTKrqL4Enm9Rn8XNkSJKWHK+AlyQ1M0wkSc0ME0lSM8NEktTMMJEkNTNMJEnNvNOiTqj1trnedreN35+WC8NEJ9R621xvu9um5fsDv0ONj91ckqRmhokkqZlh0qMNGzeRZNEPSVouPGfSo4MH9nPjrn2L3n/7ZZtHWI0k9ccjE0lSM8NEUn+yqqmrd8PGTZNugYZkN5ek/tRRu3pXCI9MJEnNDBNJUjPDRJLUzDCRJDUzTCRJzQwTSVIzhwZLPXIKea0UhonUI6fg10phN5ckqZlhIklqZphIkpoZJpKkZoaJJKmZo7mmnENT5e+AxqG3MEnyXuBy4EhVnddtWwt8EDgHeAh4bVX9fV81yKGp8ndA49FnN9f7gC1P2HYdsKeqzgX2dOuSpGWutzCpqr8AvvaEzVcAO7vnO4Er+/p8SdL4jPucybqqOgRQVYeSnPVkb0yyDdgGsHHjxjGVp2nj+QJpPJbsCfiq2gHsAJidna0Jl6NlyvMF0niMe2jw4STrAbrlkTF/viSpB+MOk9uArd3zrcCtY/58SVIPeguTJDcBnwQ2JzmY5FrgBuDSJA8Cl3brkqRlrrdzJlV1zZO8tPhObEnSkuR0KpKkZkt2NJcGHNoqaTkwTJY4h7ZKWg7s5pIkNTNMJEnNDBNJS1dWkWTRjw0bN026BSuG50wkLV11lBt37Vv07tsv2zzCYnQiHplIkpoZJpKkZoaJpOnlOZex8ZyJpOnlOZex8chEktTMI5OeOR2Kljt/hzUMw6RnToei5c7fYQ3Dbi5JUjPDRJLUbKq7uTZs3MTBA/sXvf/qNafw+GM/GGFF0srjOZeVYarD5OCB/c3DAh1WKLXxnMvKYDeXJKmZYSJJajbV3VyjYH+vJC3MMFmA/b2StDC7uSRJzQwTSVIzw0SS1MwwkSQ1M0wkSc2mfjSXQ3ul5a31/7B/A8ZjImGSZAvwDmA18O6quqGvz3Jor7S8tf4f9m/AeIy9myvJauD3gFcBzweuSfL8cdchSRqdSZwzuRD426r6YlV9H/gT4IoJ1CFJGpFU1Xg/MHkNsKWqXt+t/zLws1X1xie8bxuwrVvdDCx++t7h/ATwaM+fMUnT3L5pbhvYvuXo0araMukixmkS50xynG0/lmhVtQPY0X85A0n2VtXsuD5v3Ka5fdPcNrB9Wh4m0c11ENgwb/1s4MsTqEOSNCKTCJNPA+cmeXaSU4GrgdsmUIckaUTG3s1VVY8leSPwUQZDg99bVfeNu47jGFuX2oRMc/umuW1g+7QMjP0EvCRp+jidiiSpmWEiSWq24sIkyWlJPpXkc0nuS3J9t31tkt1JHuyWZ0661hZJVif5bJLbu/WpaV+Sh5Lcm+SeJHu7bVPRviTPSHJLkgeS3J/koilq2+bu3+zY45tJ3jwt7VvpVlyYAN8DXlFV5wMXAFuSvBi4DthTVecCe7r15exNwP3z1qetfS+vqgvmXZ8wLe17B3BHVT0XOJ/Bv+FUtK2q9nX/ZhcALwK+C3yEKWnfSrfiwqQGvt2tntI9isGULju77TuBKydQ3kgkORv4eeDd8zZPTfuexLJvX5IzgJcC7wGoqu9X1deZgrYdxyXA31XVw0xn+1acFRcm8MMuoHuAI8DuqroLWFdVhwC65VmTrLHR24FfB47O2zZN7StgV5LPdNPuwHS07znAHPAHXRflu5M8lelo2xNdDdzUPZ/G9q04KzJMqurx7lD7bODCJOdNuqZRSXI5cKSqPjPpWnp0cVW9kMHM029I8tJJFzQia4AXAu+qqhcA32EKu3y6i5VfDXxo0rVodFZkmBzTdSHcCWwBDidZD9Atj0ywtBYXA69O8hCDGZlfkeSPmZ72UVVf7pZHGPS5X8h0tO8gcLA7Uga4hUG4TEPb5nsVcHdVHe7Wp619K9KKC5MkM0me0T0/HXgl8ACDKV22dm/bCtw6mQrbVNVvVtXZVXUOg66Ej1XV65iS9iV5apKnH3sOXAZ8gSloX1V9BTiQZHO36RLgr5mCtj3BNfyoiwumr30r0oq7Aj7JTzM4ybeaQZjeXFX/NckzgZuBjcB+4Kqq+trkKm2X5GXAf6yqy6elfUmew+BoBAbdQh+oqrdNUfsuYDBw4lTgi8Cv0P2esszbBpDkKcAB4DlV9Y1u21T82610Ky5MJEmjt+K6uSRJo2eYSJKaGSaSpGaGiSSpmWEiSWpmmGiqJfmFJJXkuZOuRZpmhomm3TXAXzK4gFNSTwwTTa0kT2Mwvcy1dGGSZFWS/9Hdy+b2JH+e5DXday9K8oluAsmPHpviQ9LCDBNNsysZ3Bvkb4CvJXkh8IvAOcA/BV4PXASQ5BTgncBrqupFwHuBt02iaGk5WjPpAqQeXcNgOn4YTHp5DYP713yoqo4CX0ny8e71zcB5wO4kMJhu59B4y5WWL8NEU6mb7+kVwHlJikE4FD+a1+vHdgHuq6qLxlSiNFXs5tK0eg3wh1W1qarOqaoNwJeAR4F/0Z07WQe8rHv/PmAmyQ+7vZL81CQKl5Yjw0TT6hp+/CjkT4GfZHDfkC8A/wu4C/hGVX2fQQD9dpLPAfcALxlfudLy5qzBWnGSPK2qvt11hX2KwZ0bvzLpuqTlzHMmWolu726Qdirw3wwSqZ1HJpKkZp4zkSQ1M0wkSc0ME0lSM8NEktTMMJEkNfv/aWyG7tHhic8AAAAASUVORK5CYII=\n",
      "text/plain": [
       "<Figure size 404.625x360 with 1 Axes>"
      ]
     },
     "metadata": {
      "needs_background": "light"
     },
     "output_type": "display_data"
    }
   ],
   "source": [
    "sns.displot(ecv, x=\"Age\", hue=\"Sex\");"
   ]
  },
  {
   "cell_type": "code",
   "execution_count": 6,
   "metadata": {},
   "outputs": [
    {
     "data": {
      "image/png": "iVBORw0KGgoAAAANSUhEUgAAAZMAAAFgCAYAAAB+GpTWAAAABHNCSVQICAgIfAhkiAAAAAlwSFlzAAALEgAACxIB0t1+/AAAADh0RVh0U29mdHdhcmUAbWF0cGxvdGxpYiB2ZXJzaW9uMy4yLjIsIGh0dHA6Ly9tYXRwbG90bGliLm9yZy+WH4yJAAAXRklEQVR4nO3df7RlZX3f8feHGfEXMYIOZALzwxiCWFvRjvG3SyUhxLhAE1FcJh0bUlZaNepUI9EsCE3s0iSlmjTREKVQgyj+imgThCBqogk6IAg4UozKzJARhnRFjbpQ4Ns/9qZcJ3dm7r3P2WffM/f9Wuusc8/+cfaXc+beD8+zn/3sVBWSJLU4aOwCJEmzzzCRJDUzTCRJzQwTSVIzw0SS1Gz12AUsxIknnliXXnrp2GVI0kJl7AKmbSZaJnfcccfYJUiS9mEmwkSStLwZJpKkZoaJJKmZYSJJamaYSJKaGSaSpGaGiSSpmWEiSWpmmEiSmhkmkqRmhokkqZlhIklqZphIkpoZJpqIdes3kGRJj3XrN4xdvqRGM3E/Ey1/O3ds55zLblrSvltOOGbC1UiaNlsmkqRmhokkqZlhIklqZphIkpoZJtIIHP2mA42juaQROPpNBxpbJpKkZoaJJKmZYSJJamaYSJKaGSaSpGaGiSSpmWEiSWpmmEiSmhkmkqRmhokkqZlhIklqZphIkpoZJpKkZoaJJKmZYSJJamaYSJKaGSaSpGaGiSSpmWEiSWpmmEiSmhkmkqRmhokkqZlhIklqZphIkpoZJpKkZoaJJKmZYaKZtm79BpIs6bFu/Yaxy5cOGKvHLkBqsXPHds657KYl7bvlhGMmXI20ctkykSQ1M0wkSc0ME0lSM8NEktRs0DBJ8uokNya5IclFSR6Q5LAklye5uX8+dMgaJEnDGyxMkhwJ/BqwqaoeA6wCTgXOAK6oqqOBK/rXkqQZNnQ312rggUlWAw8C/gE4GbigX38B8LyBa5AkDWywMKmqW4HfB7YDu4BvVNVlwBFVtavfZhdw+FA1SJKmY8hurkPpWiGPAH4UeHCSX1zE/qcn2Zpk6+7du4cqU5I0AUN2c/0U8NWq2l1V3wc+CDwFuC3JWoD++fb5dq6qc6tqU1VtWrNmzYBlSpJaDRkm24EnJXlQkgDHA9uAS4DN/TabgQ8PWIMkaQoGm5urqq5K8n7gGuAu4PPAucAhwMVJTqMLnFOGqkGSNB2DTvRYVWcBZ+2x+E66Vook6QDhFfCSpGaGiSSpmWEiSWpmmEiSmhkmkqRmhokkqZlhIklqZphIkpoZJpKkZoaJJKmZYSJJamaYSJKaGSaSpGaGiSSpmWEiSWpmmEiSmhkmkqRmhokkqZlhIklqZphIkpoZJpKkZoaJJKmZYSJJamaYSJKaGSaSpGaGiSSpmWEiSWpmmEiSmhkmkqRmhokkqZlhIklqZphIkpoZJpKkZoaJJKmZYSJJamaYSJKaGSaSpGaGiSSpmWEiSWpmmEiSmhkmkqRmhokkqZlhIklqZphIkpoZJpKkZoaJJKmZYSJJamaYSJKaGSaSpGaGiSSpmWEiSWpmmEiSmhkmkqRmhokkqdmgYZLkoUnen+RLSbYleXKSw5JcnuTm/vnQIWuQJA1v6JbJW4FLq+pRwGOBbcAZwBVVdTRwRf9akjTDBguTJA8BngG8E6CqvldV/wScDFzQb3YB8LyhapAkTceQLZMfA3YD/zPJ55O8I8mDgSOqahdA/3z4fDsnOT3J1iRbd+/ePWCZkqRWQ4bJauDxwNuq6nHAt1lEl1ZVnVtVm6pq05o1a4aqUZI0AUOGyU5gZ1Vd1b9+P1243JZkLUD/fPuANUiSpmCwMKmqrwM7khzTLzoe+CJwCbC5X7YZ+PBQNUiSpmP1wO//CuDCJAcDXwH+PV2AXZzkNGA7cMrANUiSBjZomFTVtcCmeVYdP+RxJUnT5RXwkqRmhokkqZlhIklqZphIkpoZJpKkZoaJJKmZYSJJamaYSJKaGSaSpGaGiSSpmWEiSWpmmEiSmhkmkqRmhokkqZlhIklqtqAwSfLUhSyTJK1MC22Z/OECl0mSVqB93mkxyZOBpwBrkmyZs+ohwKohC5MkzY793bb3YOCQfrsfmrP8m8ALhipKkjRb9hkmVfVJ4JNJzq+qW6ZUkyRpxuyvZXKv+yc5F9g4d5+qevYQRUmSZstCw+R9wNuBdwB3D1eOJGkWLTRM7qqqtw1aiSRpZi10aPBHkvynJGuTHHbvY9DKJEn7lOQNSW5M8oUk1yZ54li1LLRlsrl/fu2cZQX82GTLkSQtRH/pxnOBx1fVnUkeTjcCdxQLCpOqesTQhUiSFmUtcEdV3QlQVXcAJPm3wDl0l3XcAbwU+A7wWeCkqropyUXAx6vqTydVzILCJMm/m295Vf2vSRUiSVqUy4Azk/wf4K+A9wKfoZud5OSq2p3kRcAbq+qXk7wcOD/JW4FDJxkksPBurifM+fkBwPHANYBhIkkjqKp/7lshTweeRRcmvwM8Brg8CXQzlezqt788ySnAHwGPnXQ9C+3mesXc10l+GHjXpIuRJC1cVd0NfAL4RJLrgZcBN1bVk/fcNslBwLHAd4HDgJ2TrGWpU9B/Bzh6koVIkhYuyTFJ5v4dPg7YRjeX4pP7be6X5F/161/dr38xcF6S+02ynoWeM/kI3egt6JpNxwIXT7IQSdKiHAL8YZKHAncBXwZOB84F/qDvQVoNvCXJ94FfAX6yqr6V5FPAbwJnTaqYhZ4z+f05P98F3FJVE20iqd269RvYuWP7kvc/at16dmx3CjZpFlTV1XSzuu/pDuAZ8yw/ds6+W+ZZ32Sh50w+meQI7jsRf/OkC1G7nTu2c85lNy15/y0nHDPBaiStJAu90+IL6cYonwK8ELgqiVPQS5KAhXdzvQF4QlXdDpBkDd245vcPVZgkaXYsdDTXQfcGSe8fF7GvJOkAt9CWyaVJPgZc1L9+EfAXw5QkSZo1+7sH/I8DR1TVa5P8PPA0IMDfAhdOoT5J0gzYX1fVW4BvAVTVB6tqS1W9mq5V8pahi5MkTUeSSvKuOa9XJ9md5KML2X9/YbKxqr6w58Kq2kp3C19J0oRl1eqd/R/3yTxWrV7IdYHfBh6T5IH9658Gbl1ozfs7Z/KAfax74D7WSZKW6p67j9zwuo+ePam3u+XNz13ole5/Cfwc3UjdF9OdJ3/6QnbcX8vkc0n+w54Lk5wGXL3A4iRJs+E9wKlJHgD8G+Cqhe64v5bJq4APJXkJ94XHJrq7eT1/CYVKkpapqvpCko10rZJFjdjdZ5hU1W3AU5I8i26OfID/XVUfX0KdkqTl7xK6+RifCTxsoTstdG6uK4Erl1SWJGmWnAd8o6quT/LMhe600IsWJUkrQD8j/FsXu59hIknLzUGrbl3ECKwFvd/+NqmqQ+ZZ9gm6Oznul2EiSctM3X3XUWPXsFhO1ihJamaYSJKaGSaSpGaGiSSpmWEiSWo2eJgkWZXk8/dOY5zksCSXJ7m5fz506BokSfuW5O4k1855bFzM/tNombwS2Dbn9RnAFVV1NHBF/1qS1Lvfqkx0Cvr7rcpCpqD/blUdN+fxtcXUPOh1JkmOopvO+I3Aln7xyXRzvgBcQHdBzOuGrEOSZsld93BknfWQiU1Bn7O/ObkLIPdi6JbJW4BfB+6Zs+yIqtoF0D8fPt+OSU5PsjXJ1t27dw9cpiSteA+c08X1ocXuPFiYJHkucHtVLem+J1V1blVtqqpNa9asmXB1kqQ9zO3mWvQtRobs5noqcFKS59DdsfEhSf4MuC3J2qralWQtcPuANUiSpmCwlklV/UZVHVVVG4FTgY9X1S/SzZW/ud9sM/DhoWqQ9IPWrd9AkiU91q3fMHb5WsbGmOjxTcDF/a1/twOnjFCDtCLt3LGdcy67aUn7bjnhmAlXowPJVMJk7jTGVfWPwPHTOK4kzaLVB3HrJEdgrT6IJU1Bv6hjtOwsSZq8799dTkEvSVp5DBNJUjPDRJLUzDCRJDUzTCRJzQwTSVIzw0SS1MwwkSQ1M0wkSc0ME0lSM8NEktTMMJEkNXOiR03M2WdP7JbVM3FcSfcxTDQxZ21e2p0Ftnz63TN5XEn3sZtLktTMMJE0uJbbBXvL4NlgN5ekwbXcLhi8ZfAssGUiSWpmmGh8OWjJ3R9jHdduF+kH2c2l8dU9S+4Caer+GOu40gHIlokkqZlhIklqZphIkpoZJpKkZoaJJKmZYSJJamaYSJKaGSaSpGaGiSSpmWEiSWpmmEiSmhkmkqRmhokkqZlhIklqZphIkpoZJpKkZoaJJKmZd1qUlqK/5a+kjmEiLUXDLX/B2/7qwGM3lySpmWEiSWpmmEiSmhkmkqRmhokkqZlhIklqZphIkpoZJpKkZoaJJKmZYSJJauZ0KtKscV4wLUOGiTRrGuYFc04wDcVuLklSs8HCJMm6JFcm2ZbkxiSv7JcfluTyJDf3z4cOVYMkaTqGbJncBfznqjoWeBLwsiSPBs4Arqiqo4Er+teSpBk2WJhU1a6quqb/+VvANuBI4GTggn6zC4DnDVWDJGk6pnLOJMlG4HHAVcARVbULusABDp9GDZKk4QweJkkOAT4AvKqqvrmI/U5PsjXJ1t27dw9XoCSp2aBhkuR+dEFyYVV9sF98W5K1/fq1wO3z7VtV51bVpqratGbNmiHLlCQ1GnI0V4B3Atuq6pw5qy4BNvc/bwY+PFQNkqTpGPKixacCvwRcn+TaftnrgTcBFyc5DdgOnDJgDZKkKRgsTKrqb4C9zflw/FDHlSRNn1fAS5KaOTeXNJKzzz577BKkiTFMpJGctXlpvb1bPv3uCVcitbObS5LUzDCRJDUzTCRJzQwTSVIzw0SS1MwwkSQ1M0wkSc0ME0lSM8NEktTMMJEkNXM6FWmFcU4wDcEwkVYY5wTTEOzmkiQ1M0wkSc0ME0lSM8NEktTME/AHGEfqSBqDYXKAWepIHXC0jqSls5tLktTMMJEkNTNMJEnNDBNJUjPDRJLUzNFcWtFahlI7DHtxxvq81q3fwM4d25e071Hr1rNj+y0TrujAZJhoRWuZ9NBh2Isz1ue1c8d2zrnspqUd94RjlnzclcZuLklSM8NEktTMMJEkNTNMJEnNDJO9WLd+A0mW9Fi3fsOSj7tx/VFLPq4kjcXRXHsx1giQW3bcSn38vy5p3zz79Us+riS1sGUiSWpmmEiSmhkmkqRmhokkqZkn4JebHDTeifQcNNqoMOe5mgEj/vvQ8meYLDd1D+ec+84l7brl9NPajz3SHEYtc2RpSkb896Hlz24uSVIzw0SS1MwwkSQ1M0wkSc08Ab8PjjCSpIUxTPbBEUaStDB2c0mSmh3QYdIyjXyT/uIup5GXtFIc0N1cY00j78VdklaaA7plIkmaDsNEktTsgO7mGtOsDiue1bpXmhX3PTVOMrniPq8RGCYDmdVhxbNa90qz4r6nxvOQK+7zGoHdXJKkZqO0TJKcCLwVWAW8o6reNNSxbN5Kk+Pvk/Zm6mGSZBXwR8BPAzuBzyW5pKq+OMTxbN5Kk+Pvk/ZmjG6unwS+XFVfqarvAe8BTh6hDknShKSqpnvA5AXAiVX1K/3rXwKeWFUv32O704HT+5fHAHs7+/Zw4I6Byl0sa5mftczPWuZ3INRyR1WdOOlilrMxzpnMN77vXyRaVZ0LnLvfN0u2VtWmSRTWylrmZy3zs5b5WctsGqObayewbs7ro4B/GKEOSdKEjBEmnwOOTvKIJAcDpwKXjFCHJGlCpt7NVVV3JXk58DG6ocHnVdWNDW+5366wKbKW+VnL/KxlftYyg6Z+Al6SdODxCnhJUjPDRJLUbKbCJMkrk9yQ5MYkr+qXHZbk8iQ398+HDnTs85LcnuSGOcv2euwkv5Hky0luSvIzU6jllP5zuSfJpj22n3Ytv5fkS0m+kORDSR46Yi2/3ddxbZLLkvzoWLXMWfeaJJXk4WPVkuS3ktzafy7XJnnOWLX0y1/RH+/GJL87Vi1J3jvnM/lakmunUcsBoapm4gE8BrgBeBDdwIG/Ao4Gfhc4o9/mDODNAx3/GcDjgRvmLJv32MCjgeuA+wOPAP4eWDVwLcfSXdz5CWDTnOVj1HICsLr/+c0jfy4PmfPzrwFvH6uWfvk6usEntwAPH/Fz+S3gNfNsO0Ytz+p/n+/fvz58zO9ozvr/Bpw5jVoOhMcstUyOBf6uqr5TVXcBnwSeTzcVywX9NhcAzxvi4FX1KeD/7rF4b8c+GXhPVd1ZVV8Fvkw3jcxgtVTVtqqab5aAMWq5rP+OAP6O7lqisWr55pyXD+a+C2SnXkvvvwO/zg9eqDtWLfMZo5b/CLypqu7st7l9xFoASHfzlBcCF02jlgPBLIXJDcAzkjwsyYOA59D9X94RVbULoH8+fIo17e3YRwI75my3s182hrFr+WXgL8esJckbk+wAXgKcOVYtSU4Cbq2q6/ZYNdZ39PK+C/C8OV20Y9TyE8DTk1yV5JNJnjBiLfd6OnBbVd28DGqZCTMTJlW1ja7L5HLgUrom51373Gk8C5oyZkpGqyXJG+i+owvHrKWq3lBV6/o67p0Dbqq19P8D9AbuC7MfWD3NWnpvAx4JHAfsouvSGauW1cChwJOA1wIX9y2DMX+PXsx9rRJGrmUmzEyYAFTVO6vq8VX1DLrm6c3AbUnWAvTPt+/rPSZsb8deTlPGjFJLks3Ac4GXVN/pPFYtc7wb+IWRankkXV/7dUm+1h/vmiQ/MkItVNVtVXV3Vd0D/Cn3ddmM8R3tBD5Ync8C99BNsDjWv93VwM8D792jxuXyO70szVSYJDm8f15P92VfRDcVy+Z+k83Ah6dY0t6OfQlwapL7J3kE3UCBz06xrrmmXku6m5+9Djipqr4zci1Hz3l5EvClMWqpquur6vCq2lhVG+n+OD2+qr4+7Vrg///Pz72eT9eNzBi1AH8OPLuv6yeAg+lm6h3r9+ingC9V1c45y5bT7/TyNPYIgMU8gL8GvkjXxXV8v+xhwBV0rZQrgMMGOvZFdN0B36f7Q3Davo5N16Xx93RT5//sFGp5fv/zncBtwMdGrOXLdP3L1/aPt49Yywfo/lB+AfgIcORYteyx/mv0o7lG+lzeBVzffy6XAGtHrOVg4M/67+ka4NljfkfA+cCvzrP9YLUcCA+nU5EkNZupbi5J0vJkmEiSmhkmkqRmhokkqZlhIklqZpho2Upydz976w1JPjJ39uFFvMdxe8yIe1KSMxpq+kQ/a+y1SbYlOX3Ouq8luT7Jdf0MxT+y1ONIs8Yw0XL23ao6rqoeQzfjwcuW8B7H0c3jBkBVXVJVb2qs6yVVdRzwVODNSQ6es+5ZVfVYYCvw+sbjSDPDMNGs+Fv6ifWSPDLJpUmuTvLXSR7VLz+lb8Vcl+RT/R/5/wK8qG9JvCjJS5P8j37785P8QZLPJPlKkhf0yw9K8sf9vTU+muQv7l23h0OAbwN3z7PuU8CPT/5jkJan1WMXIO1PklXA8cA7+0Xn0l2hfHOSJwJ/TDcdx5nAz1TVrUkeWlXfS3Im3f1dXt6/10v3ePu1wNOAR9FdCf5+uql6NgL/mm4m6G3AeXP2uTDJnXRTaryqquYLk+fSXWEurQiGiZazB/Z3utsIXA1cnuQQ4CnA+7qJZYHuhkUAnwbOT3Ix8MEFHuPPq5vs8ItJjuiXPQ14X7/860mu3GOfl1TV1iRrgM8kubSqbunXXZnkbrppSn5zUf+10gwzTLScfbeqjkvyw8BH6c6ZnA/8U3/O4gdU1a/2LZWfA65N8i+2mcedc37OHs/7VFW7k1wDPJHuzonQnTO5YyH7SwcSz5lo2auqb9Ddcvc1wHeBryY5Bbo74iV5bP/zI6vqqqo6k27W2XXAt4AfWuQh/wb4hf7cyRHAM+fbqL9HyePoJv+TVjTDRDOhqj5PN1v0qXR3TDwtyXXAjXS3VAX4vX5o7g10J8CvA64EHn3vCfgFHu4DdLPI3gD8CXAV8I056y/su9+uBs6vqqvb/uuk2eeswdI8khxSVf+c5GF09614anX3HpE0D8+ZSPP7aH+R5MHAbxsk0r7ZMpEkNfOciSSpmWEiSWpmmEiSmhkmkqRmhokkqdn/AydUsZBhpky9AAAAAElFTkSuQmCC\n",
      "text/plain": [
       "<Figure size 404.625x360 with 1 Axes>"
      ]
     },
     "metadata": {
      "needs_background": "light"
     },
     "output_type": "display_data"
    }
   ],
   "source": [
<<<<<<< HEAD
    "sns.displot(ecv, x=\"RestingBP\", hue=\"Sex\");"
=======
    "prueba_dist(edad, 20)"
   ]
  },
  {
   "cell_type": "markdown",
   "metadata": {},
   "source": [
    "> Se puede observar que la distribución que presenta un menor error es **dweibull.**\n",
    "\n",
    "> Se procede a hacer la pueba *Quartil Quartil* para la función de distribición que tuvo menos error."
>>>>>>> main
   ]
  },
  {
   "cell_type": "code",
   "execution_count": 7,
   "metadata": {},
   "outputs": [
    {
     "data": {
      "image/png": "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\n",
      "text/plain": [
       "<Figure size 404.625x360 with 1 Axes>"
      ]
     },
     "metadata": {
      "needs_background": "light"
     },
     "output_type": "display_data"
    }
   ],
   "source": [
<<<<<<< HEAD
    "sns.displot(ecv, x='Cholesterol', hue=\"Sex\");"
=======
    "q_q(edad, \"dweibull\")"
   ]
  },
  {
   "cell_type": "markdown",
   "metadata": {},
   "source": [
    "> Observando la prueba *Quartil Quartil*, se puede ver como en efecto, la distribución **dweibull** se ajusta muy bien a los datos, los puntos se acoplan casi perfectamente a la línea. "
   ]
  },
  {
   "cell_type": "code",
   "execution_count": 100,
   "metadata": {},
   "outputs": [
    {
     "name": "stdout",
     "output_type": "stream",
     "text": [
      "{'bandwidth': 2.0}\n"
     ]
    }
   ],
   "source": [
    "grid = GridSearchCV(KernelDensity(),\n",
    "                    {'bandwidth': np.linspace(2, 100, 30)},\n",
    "                    cv=50) # 20-fold cross-validation\n",
    "grid.fit(edad[:, None])\n",
    "print(grid.best_params_)"
>>>>>>> main
   ]
  },
  {
   "cell_type": "code",
<<<<<<< HEAD
   "execution_count": 8,
=======
   "execution_count": 147,
>>>>>>> main
   "metadata": {},
   "outputs": [
    {
     "data": {
      "image/png": "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\n",
      "text/plain": [
<<<<<<< HEAD
       "<Figure size 404.625x360 with 1 Axes>"
=======
       "<matplotlib.legend.Legend at 0x7fe7674bffd0>"
      ]
     },
     "execution_count": 147,
     "metadata": {},
     "output_type": "execute_result"
    },
    {
     "data": {
      "image/png": "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\n",
      "text/plain": [
       "<Figure size 432x288 with 1 Axes>"
>>>>>>> main
      ]
     },
     "metadata": {
      "needs_background": "light"
     },
     "output_type": "display_data"
    }
   ],
   "source": [
    "sns.displot(ecv, x='MaxHR', hue='Sex');"
   ]
  },
  {
   "cell_type": "code",
   "execution_count": 9,
   "metadata": {},
   "outputs": [
    {
     "data": {
      "image/png": "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\n",
      "text/plain": [
       "<Figure size 432x288 with 1 Axes>"
      ]
     },
     "metadata": {
      "needs_background": "light"
     },
     "output_type": "display_data"
    },
    {
     "data": {
      "image/png": "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\n",
      "text/plain": [
       "<Figure size 432x288 with 1 Axes>"
      ]
     },
     "metadata": {
      "needs_background": "light"
     },
     "output_type": "display_data"
    },
    {
     "data": {
      "image/png": "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\n",
      "text/plain": [
       "<Figure size 432x288 with 1 Axes>"
      ]
     },
     "metadata": {
      "needs_background": "light"
     },
     "output_type": "display_data"
    },
    {
     "data": {
      "image/png": "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\n",
      "text/plain": [
       "<Figure size 432x288 with 1 Axes>"
      ]
     },
     "metadata": {
      "needs_background": "light"
     },
     "output_type": "display_data"
    }
   ],
   "source": [
    "for i in range(4):\n",
    "    plt.hist(ecv[nodos[i]],bins=20,label=nodos[i])\n",
    "    plt.legend()\n",
    "    plt.show()"
   ]
<<<<<<< HEAD
=======
  },
  {
   "cell_type": "markdown",
   "metadata": {},
   "source": [
    "> Valle Muñoz A. (2021). Edad. octubre 19, 2021. de *Fundación Española del Corazón*. sitio web: https://fundaciondelcorazon.com/prevencion/marcadores-de-riesgo/edad.html\n",
    "\n",
    "> Valle Muñoz A. (2021). Hipertensión. octubre 19, 2021. de *Fundación Española del Corazón*. sitio web: https://fundaciondelcorazon.com/prevencion/riesgo-cardiovascular/hipertension-tension-alta.html\n",
    "\n",
    "> Valle Muñoz A. (2021). Colesterol y Riesgo Cardiovascular. octubre 19, 2021. de *Fundación Española del Corazón*. sitio web: https://fundaciondelcorazon.com/prevencion/riesgo-cardiovascular/colesterol.html\n",
    "\n",
    "> Valle Muñoz A. (2021). Frecuencia Cardiaca. octubre 19, 2021. de *Fundación Española del Corazón*. sitio web: https://fundaciondelcorazon.com/prevencion/riesgo-cardiovascular/frecuencia-cardiaca.html"
   ]
  },
  {
   "cell_type": "code",
   "execution_count": null,
   "metadata": {},
   "outputs": [],
   "source": []
>>>>>>> main
  }
 ],
 "metadata": {
  "kernelspec": {
   "display_name": "Python 3",
   "language": "python",
   "name": "python3"
  },
  "language_info": {
   "codemirror_mode": {
    "name": "ipython",
    "version": 3
   },
   "file_extension": ".py",
   "mimetype": "text/x-python",
   "name": "python",
   "nbconvert_exporter": "python",
   "pygments_lexer": "ipython3",
   "version": "3.8.3"
  }
 },
 "nbformat": 4,
 "nbformat_minor": 4
}
